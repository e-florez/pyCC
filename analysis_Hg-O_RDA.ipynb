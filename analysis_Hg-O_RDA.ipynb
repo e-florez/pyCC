{
 "cells": [
  {
   "cell_type": "code",
   "execution_count": 1,
   "metadata": {},
   "outputs": [],
   "source": [
    "from pathlib import Path\n",
    "from glob import glob\n",
    "from itertools import cycle\n",
    "\n",
    "import numpy as np\n",
    "import matplotlib.pyplot as plt\n",
    "import matplotlib.ticker as ticker\n",
    "from matplotlib.ticker import MultipleLocator\n",
    "from scipy.interpolate import make_interp_spline, BSpline\n",
    "\n",
    "# from brokenaxes import brokenaxes\n",
    "\n",
    "# # interactive plots\n",
    "# %matplotlib widget\n",
    "\n",
    "import matrix_r  # module to calculate of matriz distance\n",
    "import functions  # module with all the individuals function to do analysis\n",
    "import distance_matrix\n",
    "import atoms_index_list\n",
    "import histogram\n"
   ]
  },
  {
   "cell_type": "code",
   "execution_count": 2,
   "metadata": {},
   "outputs": [],
   "source": [
    "working_dir: Path = Path(\"/home/edison/repositories/radial_distribution/zora_so\")\n",
    "# working_dir: Path = Path(\n",
    "#     \"/home/edison/repositories/radial_distribution/mp2_xyz\"\n",
    "# )\n",
    "\n",
    "if not working_dir.exists():\n",
    "    working_dir.mkdir(parents=True)\n"
   ]
  },
  {
   "cell_type": "code",
   "execution_count": 3,
   "metadata": {},
   "outputs": [
    {
     "data": {
      "text/plain": [
       "{'/home/edison/repositories/radial_distribution/zora_so/w2s1.xyz':   element  x-coordinate  y-coordinate  z-coordinate\n",
       " 0      Hg     -0.000082     -0.029616     -0.001848\n",
       " 1       O      2.054672     -0.115947      0.106434\n",
       " 2       H      2.536426      0.652793      0.494815\n",
       " 3       H      2.550725     -0.434644     -0.684894\n",
       " 4       O     -2.054798     -0.106318     -0.117075\n",
       " 5       H     -2.536990      0.694278     -0.433967\n",
       " 6       H     -2.550654     -0.495978      0.641955}"
      ]
     },
     "execution_count": 3,
     "metadata": {},
     "output_type": "execute_result"
    }
   ],
   "source": [
    "files_w1: list = glob(str(working_dir / \"w1s*.xyz\"))\n",
    "files_w2: list = glob(str(working_dir / \"w2s*.xyz\"))\n",
    "files_w3: list = glob(str(working_dir / \"w3s*.xyz\"))\n",
    "files_w4: list = glob(str(working_dir / \"w4s*.xyz\"))\n",
    "files_w5: list = glob(str(working_dir / \"w5s*.xyz\"))\n",
    "files_w6: list = glob(str(working_dir / \"w6s*.xyz\"))\n",
    "\n",
    "coordinates_w1: dict = functions.dict_coordinates_xyz(files_w1)\n",
    "coordinates_w2: dict = functions.dict_coordinates_xyz(files_w2)\n",
    "coordinates_w3: dict = functions.dict_coordinates_xyz(files_w3)\n",
    "coordinates_w4: dict = functions.dict_coordinates_xyz(files_w4)\n",
    "coordinates_w5: dict = functions.dict_coordinates_xyz(files_w5)\n",
    "coordinates_w6: dict = functions.dict_coordinates_xyz(files_w6)\n",
    "\n",
    "coordinates_w2\n"
   ]
  },
  {
   "cell_type": "code",
   "execution_count": 4,
   "metadata": {},
   "outputs": [
    {
     "data": {
      "text/plain": [
       "{'/home/edison/repositories/radial_distribution/zora_so/w1s1.xyz':   atoms         0         1         2         3\n",
       " 0    Hg  0.000000  2.048992  2.679073  2.678433\n",
       " 1     O  2.048992  0.000000  0.984812  0.982042\n",
       " 2     H  2.679073  0.984812  0.000000  1.597871\n",
       " 3     H  2.678433  0.982042  1.597871  0.000000}"
      ]
     },
     "execution_count": 4,
     "metadata": {},
     "output_type": "execute_result"
    }
   ],
   "source": [
    "distances_dict_w1: dict = distance_matrix.distance_matrix(coordinates_w1, (0, 0, 0))\n",
    "distances_dict_w2: dict = distance_matrix.distance_matrix(coordinates_w2, (0, 0, 0))\n",
    "distances_dict_w3: dict = distance_matrix.distance_matrix(coordinates_w3, (0, 0, 0))\n",
    "distances_dict_w4: dict = distance_matrix.distance_matrix(coordinates_w4, (0, 0, 0))\n",
    "distances_dict_w5: dict = distance_matrix.distance_matrix(coordinates_w5, (0, 0, 0))\n",
    "distances_dict_w6: dict = distance_matrix.distance_matrix(coordinates_w6, (0, 0, 0))\n",
    "\n",
    "distances_dict_w1\n"
   ]
  },
  {
   "cell_type": "code",
   "execution_count": 5,
   "metadata": {},
   "outputs": [],
   "source": [
    "grid = (1.5, 3, 0.005)\n",
    "\n",
    "# - number of bins for the accurences\n",
    "rmin, rmax, dr = grid\n",
    "nbins = int((rmax - rmin) / dr)\n"
   ]
  },
  {
   "cell_type": "code",
   "execution_count": 6,
   "metadata": {},
   "outputs": [
    {
     "data": {
      "text/plain": [
       "{'/home/edison/repositories/radial_distribution/zora_so/w2s1.xyz': [(0, 1),\n",
       "  (0, 4)]}"
      ]
     },
     "execution_count": 6,
     "metadata": {},
     "output_type": "execute_result"
    }
   ],
   "source": [
    "atoms_list: list = [\"Hg\", \"O\"]\n",
    "\n",
    "atoms_index_dict_w1: dict = atoms_index_list.atoms_index_dict(\n",
    "    distances_dict_w1, atoms_list, grid\n",
    ")\n",
    "atoms_index_dict_w2: dict = atoms_index_list.atoms_index_dict(\n",
    "    distances_dict_w2, atoms_list, grid\n",
    ")\n",
    "atoms_index_dict_w3: dict = atoms_index_list.atoms_index_dict(\n",
    "    distances_dict_w3, atoms_list, grid\n",
    ")\n",
    "atoms_index_dict_w4: dict = atoms_index_list.atoms_index_dict(\n",
    "    distances_dict_w4, atoms_list, grid\n",
    ")\n",
    "atoms_index_dict_w5: dict = atoms_index_list.atoms_index_dict(\n",
    "    distances_dict_w5, atoms_list, grid\n",
    ")\n",
    "atoms_index_dict_w6: dict = atoms_index_list.atoms_index_dict(\n",
    "    distances_dict_w6, atoms_list, grid\n",
    ")\n",
    "\n",
    "atoms_index_dict_w2\n"
   ]
  },
  {
   "cell_type": "code",
   "execution_count": 7,
   "metadata": {},
   "outputs": [
    {
     "data": {
      "text/plain": [
       "array([0, 0, 0, 0, 0, 0, 0, 0, 0, 0, 0, 0, 0, 0, 0, 0, 0, 0, 0, 0, 0, 0,\n",
       "       0, 0, 0, 0, 0, 0, 0, 0, 0, 0, 0, 0, 0, 0, 0, 0, 0, 0, 0, 0, 0, 0,\n",
       "       0, 0, 0, 0, 0, 0, 0, 0, 0, 0, 0, 0, 0, 0, 0, 0, 0, 0, 0, 0, 0, 0,\n",
       "       0, 0, 0, 0, 0, 0, 0, 0, 0, 0, 0, 0, 0, 0, 0, 0, 0, 0, 0, 0, 0, 0,\n",
       "       0, 0, 0, 0, 0, 0, 0, 0, 0, 0, 0, 0, 0, 0, 0, 0, 0, 0, 0, 0, 0, 0,\n",
       "       1, 0, 0, 0, 0, 0, 0, 0, 0, 0, 0, 0, 0, 0, 0, 0, 0, 0, 0, 0, 0, 0,\n",
       "       0, 0, 0, 0, 0, 0, 0, 0, 0, 0, 0, 0, 0, 0, 0, 0, 0, 0, 0, 0, 0, 0,\n",
       "       0, 0, 0, 0, 0, 0, 0, 0, 0, 0, 0, 0, 0, 0, 0, 0, 0, 0, 0, 0, 0, 0,\n",
       "       0, 0, 0, 0, 0, 0, 0, 0, 0, 0, 0, 0, 0, 0, 0, 0, 0, 0, 0, 0, 0, 0,\n",
       "       0, 0, 0, 0, 0, 0, 0, 0, 0, 0, 0, 0, 0, 0, 0, 0, 0, 0, 0, 0, 0, 0,\n",
       "       0, 0, 0, 0, 0, 0, 0, 0, 0, 0, 0, 0, 0, 0, 0, 0, 0, 0, 0, 0, 0, 0,\n",
       "       0, 0, 0, 0, 0, 0, 0, 0, 0, 0, 0, 0, 0, 0, 0, 0, 0, 0, 0, 0, 0, 0,\n",
       "       0, 0, 0, 0, 0, 0, 0, 0, 0, 0, 0, 0, 0, 0, 0, 0, 0, 0, 0, 0, 0, 0,\n",
       "       0, 0, 0, 0, 0, 0, 0, 0, 0, 0, 0, 0, 0, 0])"
      ]
     },
     "execution_count": 7,
     "metadata": {},
     "output_type": "execute_result"
    }
   ],
   "source": [
    "# - radial (bond) distribution analysis (RDA); i.e., atoms_list_AB = [A, B]\n",
    "histogram_w1: np.array = histogram.rda(\n",
    "    atoms_index_dict_w1, distances_dict_w1, grid, nbins\n",
    ")\n",
    "histogram_w2: np.array = histogram.rda(\n",
    "    atoms_index_dict_w2, distances_dict_w2, grid, nbins\n",
    ")\n",
    "histogram_w3: np.array = histogram.rda(\n",
    "    atoms_index_dict_w3, distances_dict_w3, grid, nbins\n",
    ")\n",
    "histogram_w4: np.array = histogram.rda(\n",
    "    atoms_index_dict_w4, distances_dict_w4, grid, nbins\n",
    ")\n",
    "histogram_w5: np.array = histogram.rda(\n",
    "    atoms_index_dict_w5, distances_dict_w5, grid, nbins\n",
    ")\n",
    "histogram_w6: np.array = histogram.rda(\n",
    "    atoms_index_dict_w6, distances_dict_w6, grid, nbins\n",
    ")\n",
    "\n",
    "histogram_w1\n"
   ]
  },
  {
   "cell_type": "code",
   "execution_count": 8,
   "metadata": {},
   "outputs": [],
   "source": [
    "# - saving histogram\n",
    "distribution = np.linspace(rmin, rmax, nbins, endpoint=False)\n",
    "\n",
    "histograms: list = [\n",
    "    histogram_w1,\n",
    "    histogram_w2,\n",
    "    histogram_w3,\n",
    "    histogram_w4,\n",
    "    histogram_w5,\n",
    "    histogram_w6,\n",
    "]\n",
    "\n",
    "for count, hist in enumerate(histograms):\n",
    "    histogram_name = working_dir / (\n",
    "        f\"rda_w{count + 1}_\" + \"-\".join(atoms_list) + \".dat\"\n",
    "    )\n",
    "    np.savetxt(\n",
    "        histogram_name,\n",
    "        np.transpose([distribution, hist]),\n",
    "        delimiter=\" \",\n",
    "        header=f\"distance [Angstrom]   occurrence (total={sum(hist)})\",\n",
    "        fmt=\"%.6f %28i\",\n",
    "    )\n"
   ]
  },
  {
   "cell_type": "code",
   "execution_count": 9,
   "metadata": {},
   "outputs": [],
   "source": [
    "histogram_w1_nan = histogram_w1.astype(\"float\")\n",
    "histogram_w2_nan = histogram_w2.astype(\"float\")\n",
    "histogram_w3_nan = histogram_w3.astype(\"float\")\n",
    "histogram_w4_nan = histogram_w4.astype(\"float\")\n",
    "histogram_w5_nan = histogram_w5.astype(\"float\")\n",
    "histogram_w6_nan = histogram_w6.astype(\"float\")\n",
    "\n",
    "\n",
    "histogram_w1_nan[histogram_w1_nan == 0] = float(\"nan\")\n",
    "histogram_w2_nan[histogram_w2_nan == 0] = float(\"nan\")\n",
    "histogram_w3_nan[histogram_w3_nan == 0] = float(\"nan\")\n",
    "histogram_w4_nan[histogram_w4_nan == 0] = float(\"nan\")\n",
    "histogram_w5_nan[histogram_w5_nan == 0] = float(\"nan\")\n",
    "histogram_w6_nan[histogram_w6_nan == 0] = float(\"nan\")\n"
   ]
  },
  {
   "cell_type": "code",
   "execution_count": 10,
   "metadata": {},
   "outputs": [],
   "source": [
    "grid_all = (1.5, 3, 0.1)\n",
    "\n",
    "# - number of bins for the accurences\n",
    "rmin_all, rmax_all, dr_all = grid_all\n",
    "nbins_all = int((rmax_all - rmin_all) / dr_all)\n",
    "\n",
    "distribution_all = np.linspace(rmin_all, rmax_all, nbins_all, endpoint=False)\n",
    "\n",
    "files_all: list = glob(str(working_dir / \"w*.xyz\"))\n",
    "coordinates_all: dict = functions.dict_coordinates_xyz(files_all)\n",
    "distances_dict_all: dict = distance_matrix.distance_matrix(coordinates_all, (0, 0, 0))\n",
    "\n",
    "atoms_index_dict_all: dict = atoms_index_list.atoms_index_dict(\n",
    "    distances_dict_all, atoms_list, grid_all\n",
    ")\n",
    "histogram_all: np.array = histogram.rda(\n",
    "    atoms_index_dict_all, distances_dict_all, grid_all, nbins_all\n",
    ")\n",
    "\n",
    "\n",
    "# -----------------------------------------------------------------------------------------------------------------------\n",
    "from scipy.interpolate import make_interp_spline, BSpline\n",
    "\n",
    "x = np.linspace(rmin_all, rmax_all, nbins_all, endpoint=False)\n",
    "smooth_x = np.linspace(x[0], x[-1], len(x) * 100, endpoint=False)\n",
    "\n",
    "y = histogram_all\n",
    "smooth = make_interp_spline(x, y, k=3)\n",
    "smooth_y = smooth(smooth_x)\n"
   ]
  },
  {
   "cell_type": "code",
   "execution_count": 11,
   "metadata": {},
   "outputs": [
    {
     "data": {
      "image/png": "[encoded data removed]",
      "text/plain": [
       "<Figure size 800x500 with 1 Axes>"
      ]
     },
     "metadata": {},
     "output_type": "display_data"
    }
   ],
   "source": [
    "fig = plt.figure(figsize=(8, 5))\n",
    "\n",
    "# ax = brokenaxes(ylims=((0, 0.25),(0.95, 1.05)), hspace=.2)\n",
    "ax = fig.add_subplot(111)\n",
    "ax.grid(b=True, which=\"major\")\n",
    "\n",
    "# - lines style in a for loop\n",
    "# lines = ['-o', '-^', '-v', '-<', '->', '-s', '-d'] #, '-h', '-p', '-D', '-H']\n",
    "lines = [\"s\", \"^\", \"v\", \"<\", \">\", \".\", \"s\", \"d\", \"o\"]  # , '-h', '-p', '-D', '-H']\n",
    "# lines = ['-o', '-^', '-v', '-<', '->', '-s', '-+', '-x', '-d', '-1', '-2', '-3', '-4', '-h', '-p', '-|', '-_', '-D', '-H']\n",
    "# lines = [\"-\",\"--\",\"-.\",\":\"]\n",
    "linecycler = cycle(lines)\n",
    "\n",
    "cm = cycle(\n",
    "    [\n",
    "        \"#1f77b4\",\n",
    "        \"#ff7f0e\",\n",
    "        \"#2ca02c\",\n",
    "        \"#d62728\",\n",
    "        \"#9467bd\",\n",
    "        \"#8c564b\",\n",
    "        \"#e377c2\",\n",
    "        \"#7f7f7f\",\n",
    "        \"#bcbd22\",\n",
    "        \"#17becf\",\n",
    "    ]\n",
    ")\n",
    "\n",
    "# ax.axhline(y=0, color='black', linestyle='-', linewidth=0.7)\n",
    "\n",
    "total_w1 = sum(histogram_w1)\n",
    "total_w2 = sum(histogram_w2)\n",
    "total_w3 = sum(histogram_w3)\n",
    "total_w4 = sum(histogram_w4)\n",
    "total_w5 = sum(histogram_w5)\n",
    "total_w6 = sum(histogram_w6)\n",
    "total_all = sum(histogram_all)\n",
    "\n",
    "plt.fill_between(\n",
    "    smooth_x,\n",
    "    smooth_y / total_all,\n",
    "    where=(smooth_y / total_all > 0),\n",
    "    alpha=0.3,\n",
    "    color=\"gray\",\n",
    "    label=\"distribution\",\n",
    ")\n",
    "# ax.plot(\n",
    "#     # distribution_all,\n",
    "#     # histogram_all / total_all,\n",
    "#     smooth_x,\n",
    "#     smooth_y / total_all,\n",
    "#     \"-\",\n",
    "#     # next(linecycler),\n",
    "#     color=\"black\",\n",
    "#     label=\"distribution\",\n",
    "#     markersize=7,\n",
    "#     alpha=0.7,\n",
    "#     # color=\"black\",\n",
    "#     # markerfacecolor=\"none\",\n",
    "#     )\n",
    "\n",
    "ax.plot(\n",
    "    distribution,\n",
    "    histogram_w1_nan / total_w1,\n",
    "    # \"-\",\n",
    "    next(linecycler),\n",
    "    color=next(cm),\n",
    "    label=\"w1\",\n",
    "    markersize=7,\n",
    "    alpha=0.7,\n",
    "    # color=\"black\",\n",
    "    # markerfacecolor=\"none\",\n",
    ")\n",
    "ax.plot(\n",
    "    distribution,\n",
    "    histogram_w2_nan / total_w2,\n",
    "    # \"-\",\n",
    "    next(linecycler),\n",
    "    color=next(cm),\n",
    "    label=\"w2\",\n",
    "    markersize=7,\n",
    "    alpha=0.7,\n",
    "    # color=\"black\",\n",
    "    # markerfacecolor=\"none\",\n",
    ")\n",
    "ax.plot(\n",
    "    distribution,\n",
    "    histogram_w3_nan / total_w3,\n",
    "    # \"-\",\n",
    "    next(linecycler),\n",
    "    color=next(cm),\n",
    "    label=\"w3\",\n",
    "    markersize=7,\n",
    "    alpha=0.7,\n",
    "    # color=\"black\",\n",
    "    # markerfacecolor=\"none\",\n",
    ")\n",
    "ax.plot(\n",
    "    distribution,\n",
    "    histogram_w4_nan / total_w4,\n",
    "    # \"-\",\n",
    "    next(linecycler),\n",
    "    color=next(cm),\n",
    "    label=\"w4\",\n",
    "    markersize=7,\n",
    "    alpha=0.7,\n",
    "    # color=\"black\",\n",
    "    # markerfacecolor=\"none\",\n",
    ")\n",
    "ax.plot(\n",
    "    distribution,\n",
    "    histogram_w5_nan / total_w5,\n",
    "    # \"-\",\n",
    "    next(linecycler),\n",
    "    color=next(cm),\n",
    "    label=\"w5\",\n",
    "    markersize=7,\n",
    "    alpha=0.7,\n",
    "    # color=\"black\",\n",
    "    # markerfacecolor=\"none\",\n",
    ")\n",
    "ax.plot(\n",
    "    distribution,\n",
    "    histogram_w6_nan / total_w6,\n",
    "    # \"-\",\n",
    "    next(linecycler),\n",
    "    color=next(cm),\n",
    "    label=\"w6\",\n",
    "    markersize=7,\n",
    "    alpha=0.7,\n",
    "    # color=\"black\",\n",
    "    # markerfacecolor=\"none\",\n",
    ")\n",
    "\n",
    "plt.xlim(1.9, 2.7)\n",
    "# plt.ylim(0.001, 1.1)\n",
    "\n",
    "ax.xaxis.set_major_locator(MultipleLocator(0.1))\n",
    "\n",
    "ax.set_ylabel(\"Relative Number of Occurrences\", fontsize=16)\n",
    "ax.set_xlabel(f'Distance {\"-\".join(atoms_list)}' r\" [$\\AA$]\", fontsize=16)\n",
    "plt.legend(loc=\"best\", fontsize=10, ncol=2)\n",
    "\n",
    "fig.savefig(\n",
    "    working_dir / \"rda_HgO.pdf\",\n",
    "    dpi=500,\n",
    "    bbox_inches=\"tight\",\n",
    ")\n"
   ]
  },
  {
   "cell_type": "code",
   "execution_count": null,
   "metadata": {},
   "outputs": [],
   "source": []
  }
 ],
 "metadata": {
  "kernelspec": {
   "display_name": "Python 3.9.7 ('base')",
   "language": "python",
   "name": "python3"
  },
  "language_info": {
   "codemirror_mode": {
    "name": "ipython",
    "version": 3
   },
   "file_extension": ".py",
   "mimetype": "text/x-python",
   "name": "python",
   "nbconvert_exporter": "python",
   "pygments_lexer": "ipython3",
   "version": "3.9.7"
  },
  "orig_nbformat": 4,
  "vscode": {
   "interpreter": {
    "hash": "8bfa2ac5c09c63b51e43800e6e6b1b66ecca8dd5e88c320e0c3745a9652f5f00"
   }
  }
 },
 "nbformat": 4,
 "nbformat_minor": 2
}
